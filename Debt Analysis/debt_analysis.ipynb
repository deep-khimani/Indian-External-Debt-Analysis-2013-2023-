{
 "cells": [
  {
   "cell_type": "code",
   "execution_count": 34,
   "id": "64afc2f0",
   "metadata": {},
   "outputs": [],
   "source": [
    "import pandas as pd\n",
    "import numpy as np\n",
    "import matplotlib.pyplot as plt\n",
    "import seaborn as sns\n",
    "import sqlite3"
   ]
  },
  {
   "cell_type": "code",
   "execution_count": null,
   "id": "155c534d",
   "metadata": {},
   "outputs": [
    {
     "data": {
      "text/html": [
       "<div>\n",
       "<style scoped>\n",
       "    .dataframe tbody tr th:only-of-type {\n",
       "        vertical-align: middle;\n",
       "    }\n",
       "\n",
       "    .dataframe tbody tr th {\n",
       "        vertical-align: top;\n",
       "    }\n",
       "\n",
       "    .dataframe thead th {\n",
       "        text-align: right;\n",
       "    }\n",
       "</style>\n",
       "<table border=\"1\" class=\"dataframe\">\n",
       "  <thead>\n",
       "    <tr style=\"text-align: right;\">\n",
       "      <th></th>\n",
       "      <th>Summary external debt data by debtor type</th>\n",
       "      <th>Unnamed: 1</th>\n",
       "      <th>Unnamed: 2</th>\n",
       "      <th>Unnamed: 3</th>\n",
       "      <th>Unnamed: 4</th>\n",
       "      <th>Unnamed: 5</th>\n",
       "      <th>Unnamed: 6</th>\n",
       "      <th>Unnamed: 7</th>\n",
       "      <th>Unnamed: 8</th>\n",
       "      <th>Unnamed: 9</th>\n",
       "      <th>Unnamed: 10</th>\n",
       "      <th>Unnamed: 11</th>\n",
       "    </tr>\n",
       "  </thead>\n",
       "  <tbody>\n",
       "    <tr>\n",
       "      <th>0</th>\n",
       "      <td>Total External debt stocks</td>\n",
       "      <td>427245.1</td>\n",
       "      <td>457507.4</td>\n",
       "      <td>478831</td>\n",
       "      <td>455541.9</td>\n",
       "      <td>511575.7</td>\n",
       "      <td>521175.7</td>\n",
       "      <td>561017.4</td>\n",
       "      <td>564979.3</td>\n",
       "      <td>611987.2</td>\n",
       "      <td>615516</td>\n",
       "      <td>646787.1</td>\n",
       "    </tr>\n",
       "    <tr>\n",
       "      <th>1</th>\n",
       "      <td>Use of IMF Credit and SDR allocations</td>\n",
       "      <td>6126.5</td>\n",
       "      <td>5763.7</td>\n",
       "      <td>5512.8</td>\n",
       "      <td>5348.1</td>\n",
       "      <td>5665.6</td>\n",
       "      <td>5532.9</td>\n",
       "      <td>5501.2</td>\n",
       "      <td>5729.8</td>\n",
       "      <td>23160.2</td>\n",
       "      <td>22022.6</td>\n",
       "      <td>22201.7</td>\n",
       "    </tr>\n",
       "    <tr>\n",
       "      <th>2</th>\n",
       "      <td>Long-term external debt</td>\n",
       "      <td>328412.5</td>\n",
       "      <td>366169.3</td>\n",
       "      <td>391755.4</td>\n",
       "      <td>366260.9</td>\n",
       "      <td>408301.5</td>\n",
       "      <td>411718.8</td>\n",
       "      <td>448736.6</td>\n",
       "      <td>455716.5</td>\n",
       "      <td>474183.4</td>\n",
       "      <td>465622.6</td>\n",
       "      <td>498265.2</td>\n",
       "    </tr>\n",
       "    <tr>\n",
       "      <th>3</th>\n",
       "      <td>Public and publicly guaranteed sector</td>\n",
       "      <td>121461.8</td>\n",
       "      <td>152515.2</td>\n",
       "      <td>162310.9</td>\n",
       "      <td>153013.3</td>\n",
       "      <td>183017.5</td>\n",
       "      <td>180540</td>\n",
       "      <td>192007.5</td>\n",
       "      <td>192805.1</td>\n",
       "      <td>205281.7</td>\n",
       "      <td>205218.3</td>\n",
       "      <td>214915.7</td>\n",
       "    </tr>\n",
       "    <tr>\n",
       "      <th>4</th>\n",
       "      <td>Public sector</td>\n",
       "      <td>121460.9</td>\n",
       "      <td>152515.2</td>\n",
       "      <td>162310.9</td>\n",
       "      <td>153013.3</td>\n",
       "      <td>183017.5</td>\n",
       "      <td>180540</td>\n",
       "      <td>192007.5</td>\n",
       "      <td>192805.1</td>\n",
       "      <td>205281.7</td>\n",
       "      <td>205218.3</td>\n",
       "      <td>214915.7</td>\n",
       "    </tr>\n",
       "  </tbody>\n",
       "</table>\n",
       "</div>"
      ],
      "text/plain": [
       "  Summary external debt data by debtor type  Unnamed: 1  Unnamed: 2  \\\n",
       "0                Total External debt stocks    427245.1    457507.4   \n",
       "1     Use of IMF Credit and SDR allocations      6126.5      5763.7   \n",
       "2                   Long-term external debt    328412.5    366169.3   \n",
       "3     Public and publicly guaranteed sector    121461.8    152515.2   \n",
       "4                             Public sector    121460.9    152515.2   \n",
       "\n",
       "  Unnamed: 3 Unnamed: 4 Unnamed: 5 Unnamed: 6 Unnamed: 7 Unnamed: 8  \\\n",
       "0     478831   455541.9   511575.7   521175.7   561017.4   564979.3   \n",
       "1     5512.8     5348.1     5665.6     5532.9     5501.2     5729.8   \n",
       "2   391755.4   366260.9   408301.5   411718.8   448736.6   455716.5   \n",
       "3   162310.9   153013.3   183017.5     180540   192007.5   192805.1   \n",
       "4   162310.9   153013.3   183017.5     180540   192007.5   192805.1   \n",
       "\n",
       "  Unnamed: 9 Unnamed: 10 Unnamed: 11  \n",
       "0   611987.2      615516    646787.1  \n",
       "1    23160.2     22022.6     22201.7  \n",
       "2   474183.4    465622.6    498265.2  \n",
       "3   205281.7    205218.3    214915.7  \n",
       "4   205281.7    205218.3    214915.7  "
      ]
     },
     "execution_count": 35,
     "metadata": {},
     "output_type": "execute_result"
    }
   ],
   "source": [
    "data = pd.read_csv('UPLOAD YOUR DATASET', skiprows=2, header=1)\n",
    "data.head()"
   ]
  },
  {
   "cell_type": "code",
   "execution_count": 36,
   "id": "79f02587",
   "metadata": {},
   "outputs": [
    {
     "data": {
      "text/plain": [
       "Index(['Summary external debt data by debtor type', 'Unnamed: 1', 'Unnamed: 2',\n",
       "       'Unnamed: 3', 'Unnamed: 4', 'Unnamed: 5', 'Unnamed: 6', 'Unnamed: 7',\n",
       "       'Unnamed: 8', 'Unnamed: 9', 'Unnamed: 10', 'Unnamed: 11'],\n",
       "      dtype='object')"
      ]
     },
     "execution_count": 36,
     "metadata": {},
     "output_type": "execute_result"
    }
   ],
   "source": [
    "data.columns"
   ]
  },
  {
   "cell_type": "code",
   "execution_count": 37,
   "id": "362f232a",
   "metadata": {},
   "outputs": [
    {
     "data": {
      "text/plain": [
       "Summary external debt data by debtor type     0\n",
       "Unnamed: 1                                   10\n",
       "Unnamed: 2                                   10\n",
       "Unnamed: 3                                   10\n",
       "Unnamed: 4                                   10\n",
       "Unnamed: 5                                   10\n",
       "Unnamed: 6                                   10\n",
       "Unnamed: 7                                   10\n",
       "Unnamed: 8                                   10\n",
       "Unnamed: 9                                   10\n",
       "Unnamed: 10                                  10\n",
       "Unnamed: 11                                  10\n",
       "dtype: int64"
      ]
     },
     "execution_count": 37,
     "metadata": {},
     "output_type": "execute_result"
    }
   ],
   "source": [
    "data.isnull().sum()"
   ]
  },
  {
   "cell_type": "code",
   "execution_count": 38,
   "id": "529ba23f",
   "metadata": {},
   "outputs": [
    {
     "name": "stdout",
     "output_type": "stream",
     "text": [
      "Index(['Indicator Name', '2013', '2014', '2015', '2016', '2017', '2018',\n",
      "       '2019', '2020', '2021', '2022', '2023'],\n",
      "      dtype='object')\n"
     ]
    }
   ],
   "source": [
    "new_columns = ['Indicator Name', '2013', '2014', '2015', '2016', '2017', '2018', '2019', '2020', '2021', '2022', '2023']\n",
    "data.columns = new_columns\n",
    "\n",
    "print(data.columns)"
   ]
  },
  {
   "cell_type": "code",
   "execution_count": 39,
   "id": "67865c4c",
   "metadata": {},
   "outputs": [
    {
     "name": "stdout",
     "output_type": "stream",
     "text": [
      "Indicator Name     0\n",
      "2013              10\n",
      "2014              10\n",
      "2015              13\n",
      "2016              13\n",
      "2017              13\n",
      "2018              13\n",
      "2019              13\n",
      "2020              13\n",
      "2021              13\n",
      "2022              13\n",
      "2023              13\n",
      "dtype: int64\n"
     ]
    }
   ],
   "source": [
    "data.replace('..', pd.NA, inplace=True)\n",
    "\n",
    "data.dropna(how='all', inplace=True)\n",
    "\n",
    "print(data.isnull().sum())"
   ]
  },
  {
   "cell_type": "code",
   "execution_count": 40,
   "id": "ce29e8b3",
   "metadata": {},
   "outputs": [
    {
     "name": "stdout",
     "output_type": "stream",
     "text": [
      "<class 'pandas.core.frame.DataFrame'>\n",
      "RangeIndex: 69 entries, 0 to 68\n",
      "Data columns (total 12 columns):\n",
      " #   Column          Non-Null Count  Dtype  \n",
      "---  ------          --------------  -----  \n",
      " 0   Indicator Name  69 non-null     object \n",
      " 1   2013            59 non-null     float64\n",
      " 2   2014            59 non-null     float64\n",
      " 3   2015            56 non-null     float64\n",
      " 4   2016            56 non-null     float64\n",
      " 5   2017            56 non-null     float64\n",
      " 6   2018            56 non-null     float64\n",
      " 7   2019            56 non-null     float64\n",
      " 8   2020            56 non-null     float64\n",
      " 9   2021            56 non-null     float64\n",
      " 10  2022            56 non-null     float64\n",
      " 11  2023            56 non-null     float64\n",
      "dtypes: float64(11), object(1)\n",
      "memory usage: 6.6+ KB\n",
      "None\n"
     ]
    }
   ],
   "source": [
    "year_cols = data.columns[1:]\n",
    "data[year_cols] = data[year_cols].apply(pd.to_numeric)\n",
    "\n",
    "print(data.info())"
   ]
  },
  {
   "cell_type": "code",
   "execution_count": 41,
   "id": "e1a68f49",
   "metadata": {},
   "outputs": [
    {
     "name": "stdout",
     "output_type": "stream",
     "text": [
      "(0, 12)\n"
     ]
    }
   ],
   "source": [
    "print(data[data['Indicator Name'] == 'Total External Debt Stocks'].shape)"
   ]
  },
  {
   "cell_type": "code",
   "execution_count": 42,
   "id": "6c813553",
   "metadata": {},
   "outputs": [
    {
     "data": {
      "image/png": "[encoded data removed]",
      "text/plain": [
       "<Figure size 1000x600 with 1 Axes>"
      ]
     },
     "metadata": {},
     "output_type": "display_data"
    }
   ],
   "source": [
    "data.columns = ['Indicator Name'] + [str(year) for year in range(2013, 2024)]\n",
    "\n",
    "\n",
    "total_debt_row = data[data['Indicator Name'] == 'Total External debt stocks'].iloc[0]\n",
    "\n",
    "years = total_debt_row.index[1:]\n",
    "debt_values = pd.to_numeric(total_debt_row.values[1:], errors='coerce')\n",
    "\n",
    "# Create the line plot with the corrected data.\n",
    "plt.figure(figsize=(10, 6))\n",
    "sns.lineplot(x=years, y=debt_values, marker='o')\n",
    "plt.title('Total External Debt Stocks of India (2013-2023)')\n",
    "plt.xlabel('Year')\n",
    "plt.ylabel('Debt in millions ($)')\n",
    "plt.grid(True)\n",
    "plt.xticks(rotation=45)\n",
    "plt.tight_layout()\n",
    "plt.show()"
   ]
  },
  {
   "cell_type": "markdown",
   "id": "65a90255",
   "metadata": {},
   "source": [
    "# SQL Analysis"
   ]
  },
  {
   "cell_type": "code",
   "execution_count": 43,
   "id": "f5371d92",
   "metadata": {},
   "outputs": [
    {
     "data": {
      "text/plain": [
       "69"
      ]
     },
     "execution_count": 43,
     "metadata": {},
     "output_type": "execute_result"
    }
   ],
   "source": [
    "connect = sqlite3.connect(':memory:')\n",
    "\n",
    "data.to_sql('data', connect, index=False, if_exists='replace')"
   ]
  },
  {
   "cell_type": "code",
   "execution_count": 44,
   "id": "23524841",
   "metadata": {},
   "outputs": [
    {
     "name": "stdout",
     "output_type": "stream",
     "text": [
      "                          Indicator Name      2013      2014      2015  \\\n",
      "0             Total External debt stocks  427245.1  457507.4  478831.0   \n",
      "1  Use of IMF Credit and SDR allocations    6126.5    5763.7    5512.8   \n",
      "2                Long-term external debt  328412.5  366169.3  391755.4   \n",
      "3  Public and publicly guaranteed sector  121461.8  152515.2  162310.9   \n",
      "4                          Public sector  121460.9  152515.2  162310.9   \n",
      "\n",
      "       2016      2017      2018      2019      2020      2021      2022  \\\n",
      "0  455541.9  511575.7  521175.7  561017.4  564979.3  611987.2  615516.0   \n",
      "1    5348.1    5665.6    5532.9    5501.2    5729.8   23160.2   22022.6   \n",
      "2  366260.9  408301.5  411718.8  448736.6  455716.5  474183.4  465622.6   \n",
      "3  153013.3  183017.5  180540.0  192007.5  192805.1  205281.7  205218.3   \n",
      "4  153013.3  183017.5  180540.0  192007.5  192805.1  205281.7  205218.3   \n",
      "\n",
      "       2023  \n",
      "0  646787.1  \n",
      "1   22201.7  \n",
      "2  498265.2  \n",
      "3  214915.7  \n",
      "4  214915.7  \n"
     ]
    }
   ],
   "source": [
    "verification_query = 'SELECT * FROM data'\n",
    "verification_result = pd.read_sql_query(verification_query, connect)\n",
    "print(verification_result.head())\n"
   ]
  },
  {
   "cell_type": "markdown",
   "id": "ee001aae",
   "metadata": {},
   "source": [
    "Query 1: Get Total Debt for a Specific Year\n",
    "\n",
    "Retrieve the total external debt for 2023.\n"
   ]
  },
  {
   "cell_type": "code",
   "execution_count": 45,
   "id": "36519883",
   "metadata": {},
   "outputs": [
    {
     "name": "stdout",
     "output_type": "stream",
     "text": [
      "Result:\n",
      "       2023\n",
      "0  646787.1\n"
     ]
    }
   ],
   "source": [
    "query1 = '''\n",
    "SELECT \"2023\"\n",
    "FROM data\n",
    "WHERE \"Indicator Name\" = 'Total External debt stocks';\n",
    "'''\n",
    "result = pd.read_sql_query(query1, connect)\n",
    "\n",
    "print(\"Result:\")\n",
    "print(result)\n",
    "\n"
   ]
  },
  {
   "cell_type": "markdown",
   "id": "f0a54401",
   "metadata": {},
   "source": [
    "Query 2: Calculate the Percentage Change in Debt\n",
    "\n",
    "Find the percentage increase in total external debt from 2013 to 2023."
   ]
  },
  {
   "cell_type": "code",
   "execution_count": 46,
   "id": "3d6bdaef",
   "metadata": {},
   "outputs": [
    {
     "name": "stdout",
     "output_type": "stream",
     "text": [
      "Result:\n",
      "   Percentage_Increase\n",
      "0             0.496771\n"
     ]
    }
   ],
   "source": [
    "query2 = '''\n",
    "SELECT ('2023' - '2013') * 100.0/'2013' AS Percentage_Increase\n",
    "FROM data\n",
    "WHERE \"Indicator Name\" = 'Total External debt stocks';\n",
    "'''\n",
    "result = pd.read_sql_query(query2, connect)\n",
    "\n",
    "print(\"Result:\")\n",
    "print(result)"
   ]
  },
  {
   "cell_type": "markdown",
   "id": "aeb7ef30",
   "metadata": {},
   "source": [
    "Query 3: Compare Debt Ratios for the Latest Year\n",
    "\n",
    "Compare the External debt stocks to exports (%) and External debt stocks to GNI (%) for the year 2023."
   ]
  },
  {
   "cell_type": "code",
   "execution_count": 47,
   "id": "273d1120",
   "metadata": {},
   "outputs": [
    {
     "name": "stdout",
     "output_type": "stream",
     "text": [
      "Result:\n",
      "                        Indicator Name  2023\n",
      "0  External debt stocks to exports (%)  79.7\n",
      "1      External debt stocks to GNI (%)  18.4\n"
     ]
    }
   ],
   "source": [
    "query3 = '''\n",
    "SELECT\n",
    "    \"Indicator Name\",\n",
    "    \"2023\"\n",
    "FROM data\n",
    "WHERE\n",
    "    \"Indicator Name\" IN ('External debt stocks to exports (%)', 'External debt stocks to GNI (%)');\n",
    "'''\n",
    "result = pd.read_sql_query(query3, connect)\n",
    "\n",
    "print(\"Result:\")\n",
    "print(result)"
   ]
  },
  {
   "cell_type": "markdown",
   "id": "3a491fef",
   "metadata": {},
   "source": [
    "Query 4: Find the Year with the Highest Debt Service to Exports Ratio\n",
    "\n",
    "Determine which year had the highest debt service to exports ratio."
   ]
  },
  {
   "cell_type": "code",
   "execution_count": 49,
   "id": "d6f15877",
   "metadata": {},
   "outputs": [
    {
     "name": "stdout",
     "output_type": "stream",
     "text": [
      "Result:\n",
      "   Year  Value\n",
      "0  2014   18.6\n"
     ]
    }
   ],
   "source": [
    "query4 = '''\n",
    "SELECT\n",
    "    '2013' AS Year, \"2013\" AS Value FROM data WHERE \"Indicator Name\" = 'Debt service to exports (%)'\n",
    "UNION ALL\n",
    "SELECT\n",
    "    '2014', \"2014\" FROM data WHERE \"Indicator Name\" = 'Debt service to exports (%)'\n",
    "UNION ALL\n",
    "SELECT\n",
    "    '2015', \"2015\" FROM data WHERE \"Indicator Name\" = 'Debt service to exports (%)'\n",
    "UNION ALL\n",
    "SELECT\n",
    "    '2016', \"2016\" FROM data WHERE \"Indicator Name\" = 'Debt service to exports (%)'\n",
    "UNION ALL\n",
    "SELECT\n",
    "    '2017', \"2017\" FROM data WHERE \"Indicator Name\" = 'Debt service to exports (%)'\n",
    "UNION ALL\n",
    "SELECT\n",
    "    '2018', \"2018\" FROM data WHERE \"Indicator Name\" = 'Debt service to exports (%)'\n",
    "UNION ALL\n",
    "SELECT\n",
    "    '2019', \"2019\" FROM data WHERE \"Indicator Name\" = 'Debt service to exports (%)'\n",
    "UNION ALL\n",
    "SELECT\n",
    "    '2020', \"2020\" FROM data WHERE \"Indicator Name\" = 'Debt service to exports (%)'\n",
    "UNION ALL\n",
    "SELECT\n",
    "    '2021', \"2021\" FROM data WHERE \"Indicator Name\" = 'Debt service to exports (%)'\n",
    "UNION ALL\n",
    "SELECT\n",
    "    '2022', \"2022\" FROM data WHERE \"Indicator Name\" = 'Debt service to exports (%)'\n",
    "UNION ALL\n",
    "SELECT\n",
    "    '2023', \"2023\" FROM data WHERE \"Indicator Name\" = 'Debt service to exports (%)'\n",
    "ORDER BY Value DESC\n",
    "LIMIT 1;\n",
    "'''\n",
    "result = pd.read_sql_query(query4, connect)\n",
    "\n",
    "print(\"Result:\")\n",
    "print(result)"
   ]
  }
 ],
 "metadata": {
  "kernelspec": {
   "display_name": "Python 3",
   "language": "python",
   "name": "python3"
  },
  "language_info": {
   "codemirror_mode": {
    "name": "ipython",
    "version": 3
   },
   "file_extension": ".py",
   "mimetype": "text/x-python",
   "name": "python",
   "nbconvert_exporter": "python",
   "pygments_lexer": "ipython3",
   "version": "3.13.5"
  }
 },
 "nbformat": 4,
 "nbformat_minor": 5
}
